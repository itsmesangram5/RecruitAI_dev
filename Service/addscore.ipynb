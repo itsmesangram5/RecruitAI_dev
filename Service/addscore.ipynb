{
 "cells": [
  {
   "cell_type": "code",
   "execution_count": 6,
   "metadata": {},
   "outputs": [
    {
     "name": "stdout",
     "output_type": "stream",
     "text": [
      "<class 'list'>\n",
      "454\n",
      "\n",
      "\n",
      "\n",
      "\n",
      "74.70752089136491\n"
     ]
    }
   ],
   "source": [
    "from langchain_community.document_loaders.csv_loader import CSVLoader\n",
    "from langchain_community.vectorstores import FAISS\n",
    "from langchain_openai import OpenAIEmbeddings\n",
    "\n",
    "loader = CSVLoader(file_path='C://Users//itsme//OneDrive//Documents//RecruitAI_dev//resources//clg_ranking.csv')\n",
    "data = loader.load()\n",
    "txt=\"DY Patil institute of engineering management and research Akurdi Computer Engineering\"\n",
    "\n",
    "faiss_index = FAISS.from_documents(data, OpenAIEmbeddings())\n",
    "docs = faiss_index.similarity_search(txt, k=1)\n",
    "print(type(docs))\n",
    "data_row=docs[0]\n",
    "row_number = data_row.metadata['row']\n",
    "print(row_number)\n",
    "print(\"\\n\")\n",
    "\n",
    "percentage_clg=((1795-row_number)*100)/1795\n",
    "print(percentage_clg)"
   ]
  },
  {
   "cell_type": "code",
   "execution_count": 7,
   "metadata": {},
   "outputs": [
    {
     "name": "stdout",
     "output_type": "stream",
     "text": [
      "<class 'list'>\n",
      "0\n",
      "\n",
      "\n",
      "100.0\n"
     ]
    }
   ],
   "source": [
    "loader = CSVLoader(file_path='C://Users//itsme//OneDrive//Documents//RecruitAI_dev//resources//branch_ranking.csv')\n",
    "data = loader.load()\n",
    "txt=\"Computer Engineering\"\n",
    "\n",
    "faiss_index = FAISS.from_documents(data, OpenAIEmbeddings())\n",
    "docs = faiss_index.similarity_search(txt, k=1)\n",
    "print(type(docs))\n",
    "data_row=docs[0]\n",
    "row_number = data_row.metadata['row']\n",
    "print(row_number)\n",
    "print(\"\\n\")\n",
    "\n",
    "branch_score=((1795-row_number)*100)/1795\n",
    "print(branch_score)"
   ]
  },
  {
   "cell_type": "code",
   "execution_count": 9,
   "metadata": {},
   "outputs": [
    {
     "name": "stdout",
     "output_type": "stream",
     "text": [
      "<class 'list'>\n",
      "553\n",
      "\n",
      "\n",
      "69.19220055710306\n"
     ]
    }
   ],
   "source": [
    "loader = CSVLoader(file_path='C://Users//itsme//OneDrive//Documents//RecruitAI_dev//resources//company_ranking.csv')\n",
    "data = loader.load()\n",
    "txt=\"Google\"\n",
    "\n",
    "faiss_index = FAISS.from_documents(data, OpenAIEmbeddings())\n",
    "docs = faiss_index.similarity_search(txt, k=1)\n",
    "print(type(docs))\n",
    "data_row=docs[0]\n",
    "row_number = data_row.metadata['row']\n",
    "print(row_number)\n",
    "print(\"\\n\")\n",
    "\n",
    "company_score=((1795-row_number)*100)/1795\n",
    "print(company_score)"
   ]
  },
  {
   "cell_type": "code",
   "execution_count": 15,
   "metadata": {},
   "outputs": [
    {
     "name": "stdout",
     "output_type": "stream",
     "text": [
      "scord: 44.943641652398206\n"
     ]
    }
   ],
   "source": [
    "from sklearn.feature_extraction.text import TfidfVectorizer\n",
    "from sklearn.metrics.pairwise import cosine_similarity\n",
    "\n",
    "def calculate_text_similarity(text1, text2):\n",
    "    # Create the Document Term Matrix\n",
    "    vectorizer = TfidfVectorizer()\n",
    "    tfidf_matrix = vectorizer.fit_transform([text1, text2])\n",
    "    \n",
    "    # Calculate cosine similarity\n",
    "    similarity_matrix = cosine_similarity(tfidf_matrix[0:1], tfidf_matrix[1:2])\n",
    "    return similarity_matrix[0][0]\n",
    "\n",
    "\n",
    "soft_skills = \"Communication, Problem-solving\"\n",
    "soft_skills_from_jd = \"Communication\"\n",
    "similarity = calculate_text_similarity(soft_skills, soft_skills_from_jd)\n",
    "similarity=similarity*100\n",
    "print(f\"scord:\",similarity)\n"
   ]
  },
  {
   "cell_type": "code",
   "execution_count": 21,
   "metadata": {},
   "outputs": [
    {
     "name": "stdout",
     "output_type": "stream",
     "text": [
      "scord: 26.055567105626242\n"
     ]
    }
   ],
   "source": [
    "tech_skills = \"C , c++ , java , php , sql\"\n",
    "tech_skills_from_jd = \"python , sql\"\n",
    "similarity_tech = calculate_text_similarity(tech_skills, tech_skills_from_jd)\n",
    "similarity_tech=similarity_tech*100\n",
    "print(f\"scord:\",similarity_tech)"
   ]
  },
  {
   "cell_type": "code",
   "execution_count": 24,
   "metadata": {},
   "outputs": [
    {
     "name": "stdout",
     "output_type": "stream",
     "text": [
      "scord: 33.609692727625756\n"
     ]
    }
   ],
   "source": [
    "tech_project = \"C , c++ , php , sql\"\n",
    "tech_project_from_jd = \"python , sql\"\n",
    "similarity_project = calculate_text_similarity(tech_project, tech_project_from_jd)\n",
    "similarity_project=similarity_project*100\n",
    "print(f\"scord:\",similarity_project)"
   ]
  },
  {
   "cell_type": "code",
   "execution_count": 26,
   "metadata": {},
   "outputs": [
    {
     "name": "stdout",
     "output_type": "stream",
     "text": [
      "63.57\n"
     ]
    }
   ],
   "source": [
    "marks_10 = 86.40\n",
    "marks_12 = 8.31\n",
    "marks_engg=9.6\n",
    "marks_engg = float(marks_engg) * 10 if marks_engg <= 10 else float(marks_engg)\n",
    "education = (marks_10 + marks_12 + marks_engg) / 3\n",
    "\n",
    "print(education)"
   ]
  },
  {
   "cell_type": "code",
   "execution_count": null,
   "metadata": {},
   "outputs": [],
   "source": []
  }
 ],
 "metadata": {
  "kernelspec": {
   "display_name": "venv",
   "language": "python",
   "name": "python3"
  },
  "language_info": {
   "codemirror_mode": {
    "name": "ipython",
    "version": 3
   },
   "file_extension": ".py",
   "mimetype": "text/x-python",
   "name": "python",
   "nbconvert_exporter": "python",
   "pygments_lexer": "ipython3",
   "version": "3.10.1"
  }
 },
 "nbformat": 4,
 "nbformat_minor": 2
}
